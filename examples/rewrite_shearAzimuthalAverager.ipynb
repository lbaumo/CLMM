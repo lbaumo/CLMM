{
 "cells": [
  {
   "cell_type": "markdown",
   "metadata": {},
   "source": [
    "# Notebook to serve as baseline to re-write shearAzimuthalAverager\n",
    "## build on : data_and_model_demo_DC2\n",
    "\n",
    "### created by Mijin, Lucie & Marina\n",
    "################################################################"
   ]
  },
  {
   "cell_type": "code",
   "execution_count": 1,
   "metadata": {},
   "outputs": [],
   "source": [
    "import numpy as np\n",
    "import matplotlib.pyplot as plt\n",
    "from astropy.coordinates import SkyCoord\n",
    "from astropy.cosmology import FlatLambdaCDM\n",
    "from astropy.table import Table\n",
    "import GCRCatalogs\n",
    "from clmm import ShearAzimuthalAverager"
   ]
  },
  {
   "cell_type": "markdown",
   "metadata": {},
   "source": [
    "### Read in the data (here cosmoDC2)"
   ]
  },
  {
   "cell_type": "code",
   "execution_count": 2,
   "metadata": {},
   "outputs": [],
   "source": [
    "extragalactic_cat = GCRCatalogs.load_catalog('cosmoDC2_v1.1.4_small')"
   ]
  },
  {
   "cell_type": "code",
   "execution_count": 3,
   "metadata": {},
   "outputs": [
    {
     "name": "stdout",
     "output_type": "stream",
     "text": [
      "mass =  12.391444739836395 *1e14 Msol \n",
      " ra =  63.28980748965139 \n",
      " dec =  -39.647126899140524 \n",
      " z =  0.18532355457931704\n"
     ]
    }
   ],
   "source": [
    "# get a massive halo at intermediate redshift\n",
    "massive_halos = extragalactic_cat.get_quantities(['halo_mass', 'redshift','ra', 'dec'],\\\n",
    "                                                 filters=['halo_mass > 5e14','is_central==True','redshift<0.4'])\n",
    "\n",
    "mass_list = massive_halos['halo_mass']\n",
    "select = (mass_list == np.max(mass_list))\n",
    "ra_cl = massive_halos['ra'][select][0]\n",
    "dec_cl = massive_halos['dec'][select][0]\n",
    "z_cl = massive_halos['redshift'][select][0]\n",
    "mass_cl = mass_list[select][0]\n",
    "print(\"mass = \", mass_cl/1e14,\"*1e14 Msol\", \"\\n ra = \", ra_cl, \"\\n dec = \", dec_cl,\"\\n z = \", z_cl)\n",
    "\n",
    "# make a dictionary for cluster\n",
    "cl_dict = {'z':z_cl, 'ra':ra_cl, 'dec': dec_cl}\n"
   ]
  },
  {
   "cell_type": "code",
   "execution_count": 16,
   "metadata": {},
   "outputs": [
    {
     "name": "stdout",
     "output_type": "stream",
     "text": [
      "number of galaxies selected =  448646\n"
     ]
    }
   ],
   "source": [
    "# get galaxies around it\n",
    "ra_min, ra_max = ra_cl-0.3, ra_cl+0.3\n",
    "dec_min, dec_max = dec_cl-0.3, dec_cl+0.3\n",
    "z_min = z_cl + 0.1\n",
    "z_max = 1.5\n",
    "\n",
    "coord_filters = [\n",
    "    'ra >= {}'.format(ra_min),\n",
    "    'ra < {}'.format(ra_max),\n",
    "    'dec >= {}'.format(dec_min),\n",
    "    'dec < {}'.format(dec_max),\n",
    "                ]\n",
    "\n",
    "z_filters = ['redshift >= {}'.format(z_min),'redshift < {}'.format(z_max)]\n",
    "\n",
    "gal_cat = extragalactic_cat.get_quantities(['galaxy_id', 'ra', 'dec', 'shear_1', 'shear_2', 'shear_2_phosim', 'shear_2_treecorr',\\\n",
    "                                            'redshift', 'convergence'], filters=(coord_filters + z_filters))\n",
    "\n",
    "# store the results into an astropy table\n",
    "dat = Table([gal_cat['galaxy_id'],gal_cat['ra'],gal_cat['dec'],gal_cat['shear_1'],\\\n",
    "          gal_cat['shear_2'],gal_cat['redshift'],gal_cat['convergence']], \\\n",
    "          names=('id','ra','dec', 'gamma1', 'gamma2', 'z', 'kappa'))\n",
    "\n",
    "print (\"number of galaxies selected = \", len(dat))"
   ]
  },
  {
   "cell_type": "markdown",
   "metadata": {},
   "source": [
    "# NEW PIECE OF CODE #################################################################"
   ]
  },
  {
   "cell_type": "markdown",
   "metadata": {},
   "source": [
    "## Prepare your data"
   ]
  },
  {
   "cell_type": "code",
   "execution_count": 34,
   "metadata": {},
   "outputs": [],
   "source": [
    "#data_type = \"simu\" or data_type = \"real\"\n",
    "data_type = \"simu\"\n",
    "\n",
    "#define cosmo\n",
    "cosmo = extragalactic_cat.cosmology\n",
    "\n",
    "if data_type == \"simu\":\n",
    "    g1 = dat['gamma1'] / (1 - dat['kappa'])\n",
    "    g2 = dat['gamma2'] / (1 - dat['kappa'])"
   ]
  },
  {
   "cell_type": "markdown",
   "metadata": {},
   "source": [
    "## Computes the tangential and cross shear profiles"
   ]
  },
  {
   "cell_type": "code",
   "execution_count": null,
   "metadata": {},
   "outputs": [],
   "source": []
  },
  {
   "cell_type": "code",
   "execution_count": 127,
   "metadata": {},
   "outputs": [],
   "source": [
    "def compute_shear(ra_l,dec_l,ra_s, dec_s, g1, g2):\n",
    "    \n",
    "    \"\"\"Computes the tangential and cross shear and radius in Mpc for each source in the catalog as:\n",
    "            g_t = - (g_1 * \\cos(2\\phi) + g_2 * \\sin(2\\phi))\n",
    "            g_c = - g_1 * \\sin(2\\phi) + g_2 * \\cos(2\\phi)\n",
    "            Note: ra_s, dec_s, e1, e2 come from galaxy table, ra_l, dec_l is the cluster center\n",
    "    \"\"\"  \n",
    "    \n",
    "    coord_l = SkyCoord(ra_l*u.deg,dec_l*u.deg)\n",
    "    coord_s = SkyCoord(ra_s*u.deg,dec_s*u.deg)\n",
    "    theta = coord_l.separation(coord_s).to(u.rad).value # in radian\n",
    "\n",
    "   # cos_phi = (ra_l - ra_s) / theta\n",
    "   # sin_phi = (dec_l - dec_s) / theta\n",
    "\n",
    "   # cos2_phi = cos_phi**2 - sin_phi**2 \n",
    "   # sin2_phi = 2. * sin_phi * cos_phi\n",
    " \n",
    "   # g_t = - (g1 * cos2_phi + g2 * sin2_phi)\n",
    "   # g_x = - g2 * sin2_phi + g2 * cos2_phi \n",
    "    \n",
    "      \n",
    "    phi = np.arctan2(dec_s-dec_l, -(ra_s-ra_l))\n",
    "    g_t = - g1 * np.cos(2.0 * phi) - g2 * np.sin(2.0 * phi)\n",
    "    g_x = - g1 * np.sin(2.0 * phi) + g2 * np.cos(2.0 * phi)\n",
    "\n",
    "    return theta, g_t, g_x\n"
   ]
  },
  {
   "cell_type": "code",
   "execution_count": 128,
   "metadata": {},
   "outputs": [],
   "source": [
    "theta, g_t , g_x = compute_shear(ra_cl, dec_cl, dat['ra'], dat['dec'], g1, g2)"
   ]
  },
  {
   "cell_type": "code",
   "execution_count": 129,
   "metadata": {},
   "outputs": [],
   "source": [
    "def make_shear_profile(theta, g, z_l, cosmo, bins = None): #wishlist : add bin_units\n",
    "    \n",
    "    \"\"\" returns astropy table containing shear profile, g can be g_c or g_t\n",
    "    Is_binned: boolean\n",
    "    bins: user defined array of bins\n",
    "\n",
    "    We want to be able to define units of bins\n",
    "    \"\"\"\n",
    "    \n",
    "    rMpc = theta * cosmo.angular_diameter_distance(z_l).value\n",
    "    \n",
    "    if bins == None:\n",
    "        nbins = 10\n",
    "        bins = np.linspace(np.min(rMpc),np.max(rMpc), nbins)\n",
    "\n",
    "    g_profile = np.zeros(len(bins) - 1)\n",
    "    gerr_profile = np.zeros(len(bins) - 1)\n",
    "    rMpc_profile =  np.zeros(len(bins) - 1)\n",
    "\n",
    "    \n",
    "    for i in range(len(bins)-1):\n",
    "        cond = (rMpc >= bins[i]) & (rMpc < bins[i+1])\n",
    "        index = np.where(cond)[0]\n",
    "        g_profile[i] = np.average(g[index])\n",
    "        gerr_profile[i] = np.std(g[index]) / np.sqrt(float(len(index)))\n",
    "        rMpc_profile[i] = np.average(rMpc[index])\n",
    "\n",
    "    return rMpc_profile, g_profile, gerr_profile\n"
   ]
  },
  {
   "cell_type": "code",
   "execution_count": 130,
   "metadata": {},
   "outputs": [],
   "source": [
    "r, gt, gterr = make_shear_profile(theta, g_t, z_cl, cosmo)\n",
    "r, gx, gxerr = make_shear_profile(theta, g_x, z_cl, cosmo)"
   ]
  },
  {
   "cell_type": "code",
   "execution_count": 131,
   "metadata": {},
   "outputs": [
    {
     "data": {
      "text/plain": [
       "<ErrorbarContainer object of 3 artists>"
      ]
     },
     "execution_count": 131,
     "metadata": {},
     "output_type": "execute_result"
    },
    {
     "data": {
      "image/png": "[encoded data removed]",
      "text/plain": [
       "<Figure size 432x288 with 1 Axes>"
      ]
     },
     "metadata": {
      "needs_background": "light"
     },
     "output_type": "display_data"
    }
   ],
   "source": [
    "plt.plot(r,gt,'bo-')\n",
    "plt.plot(r,-gx,'ro-')\n",
    "plt.errorbar(r,gt,gterr)"
   ]
  },
  {
   "cell_type": "code",
   "execution_count": 120,
   "metadata": {},
   "outputs": [
    {
     "data": {
      "text/plain": [
       "<ErrorbarContainer object of 3 artists>"
      ]
     },
     "execution_count": 120,
     "metadata": {},
     "output_type": "execute_result"
    },
    {
     "data": {
      "image/png": "[encoded data removed]",
      "text/plain": [
       "<Figure size 432x288 with 1 Axes>"
      ]
     },
     "metadata": {
      "needs_background": "light"
     },
     "output_type": "display_data"
    }
   ],
   "source": [
    "plt.plot(r,g,'bo-')\n",
    "plt.errorbar(r,g,gerr)"
   ]
  }
 ],
 "metadata": {
  "kernelspec": {
   "display_name": "Python 3",
   "language": "python",
   "name": "python3"
  },
  "language_info": {
   "codemirror_mode": {
    "name": "ipython",
    "version": 3
   },
   "file_extension": ".py",
   "mimetype": "text/x-python",
   "name": "python",
   "nbconvert_exporter": "python",
   "pygments_lexer": "ipython3",
   "version": "3.7.1"
  }
 },
 "nbformat": 4,
 "nbformat_minor": 2
}
