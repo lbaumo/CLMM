{
 "cells": [
  {
   "cell_type": "markdown",
   "metadata": {},
   "source": [
    "### Author: Celine Combet\n",
    "### Date Created: 5 Oct 2018\n",
    "## This example jupyer notebook uses clmm code to generate mock data with a set of configuration parmeters, producing a catalog of ideal and noisy example data."
   ]
  },
  {
   "cell_type": "code",
   "execution_count": 10,
   "metadata": {
    "collapsed": true
   },
   "outputs": [],
   "source": [
    "import matplotlib.pyplot as plt\n",
    "%matplotlib inline"
   ]
  },
  {
   "cell_type": "markdown",
   "metadata": {},
   "source": [
    "### Import mock data module and setup the configuration "
   ]
  },
  {
   "cell_type": "code",
   "execution_count": 11,
   "metadata": {
    "collapsed": false
   },
   "outputs": [],
   "source": [
    "import clmm.mock_data as mock"
   ]
  },
  {
   "cell_type": "markdown",
   "metadata": {},
   "source": [
    "### Mock data generation requires a config dictionary"
   ]
  },
  {
   "cell_type": "code",
   "execution_count": 12,
   "metadata": {
    "collapsed": true
   },
   "outputs": [],
   "source": [
    "config={}\n",
    "config['cluster_m'] = 1.e15\n",
    "config['cluster_z'] = 0.3\n",
    "config['src_z'] = 0.8\n",
    "config['concentration'] = 4\n",
    "config['cosmo'] = 'WMAP7-ML'\n",
    "config['ngals'] = 10000\n",
    "config['mdef'] = '200c'\n",
    "\n",
    "ideal_data = mock.MockData(config=config)\n",
    "noisy_data = mock.MockData(config=config)"
   ]
  },
  {
   "cell_type": "markdown",
   "metadata": {},
   "source": [
    "### Generate the mock catalog from the configuration\n",
    "* Ideal data\n",
    "* Noisy data, including shape noise and redshift error"
   ]
  },
  {
   "cell_type": "code",
   "execution_count": 13,
   "metadata": {
    "collapsed": true
   },
   "outputs": [],
   "source": [
    "ideal_data.generate()\n",
    "noisy_data.generate(is_shapenoise=True, is_zerr=True)"
   ]
  },
  {
   "cell_type": "code",
   "execution_count": 14,
   "metadata": {
    "collapsed": false
   },
   "outputs": [
    {
     "data": {
      "text/html": [
       "&lt;Table length=10000&gt;\n",
       "<table id=\"table140388691946632\" class=\"table-striped table-bordered table-condensed\">\n",
       "<thead><tr><th>id</th><th>ra</th><th>dec</th><th>gamma1</th><th>gamma2</th><th>z</th></tr></thead>\n",
       "<thead><tr><th>int64</th><th>float64</th><th>float64</th><th>float64</th><th>float64</th><th>float64</th></tr></thead>\n",
       "<tr><td>0</td><td>0.22229783067</td><td>-0.136796055602</td><td>-0.00398336307623</td><td>-0.00789051857411</td><td>0.8</td></tr>\n",
       "<tr><td>1</td><td>0.155922740062</td><td>-0.25563956524</td><td>0.00334372838078</td><td>-0.00649522920953</td><td>0.8</td></tr>\n",
       "<tr><td>2</td><td>-0.128151059278</td><td>-0.252624337966</td><td>0.00466310622072</td><td>0.0063702677062</td><td>0.8</td></tr>\n",
       "<tr><td>3</td><td>-0.025337931365</td><td>-0.0643041543786</td><td>0.030584455732</td><td>0.0285325557326</td><td>0.8</td></tr>\n",
       "<tr><td>4</td><td>-0.309800086125</td><td>-0.182037922764</td><td>-0.0027423147836</td><td>0.00492228052874</td><td>0.8</td></tr>\n",
       "<tr><td>5</td><td>-0.309112863719</td><td>-0.172467667019</td><td>-0.00302409519814</td><td>0.00489989676827</td><td>0.8</td></tr>\n",
       "<tr><td>6</td><td>-0.235491369972</td><td>-0.289266612636</td><td>0.00108264421412</td><td>0.00522694136732</td><td>0.8</td></tr>\n",
       "<tr><td>7</td><td>0.212040369099</td><td>0.0221039042058</td><td>-0.0113554936229</td><td>0.00239349025591</td><td>0.8</td></tr>\n",
       "<tr><td>8</td><td>-0.196199898522</td><td>0.279653999882</td><td>0.00206202776301</td><td>-0.00569800729889</td><td>0.8</td></tr>\n",
       "<tr><td>9</td><td>-0.0898878709476</td><td>0.0558332838796</td><td>-0.0120259776721</td><td>-0.0243246405835</td><td>0.8</td></tr>\n",
       "<tr><td>...</td><td>...</td><td>...</td><td>...</td><td>...</td><td>...</td></tr>\n",
       "<tr><td>9990</td><td>-0.238926732198</td><td>0.0628983845375</td><td>-0.00829180059851</td><td>-0.00469078027486</td><td>0.8</td></tr>\n",
       "<tr><td>9991</td><td>-0.242788264754</td><td>0.0126249631894</td><td>-0.00968456566702</td><td>-0.00100992353077</td><td>0.8</td></tr>\n",
       "<tr><td>9992</td><td>-0.126586255078</td><td>-0.0122515436844</td><td>-0.0216397811008</td><td>0.00422838384125</td><td>0.8</td></tr>\n",
       "<tr><td>9993</td><td>0.124231381653</td><td>-0.0542940350717</td><td>-0.0138958605259</td><td>-0.0150137669341</td><td>0.8</td></tr>\n",
       "<tr><td>9994</td><td>0.016059278626</td><td>-0.1174037763</td><td>0.0230356605653</td><td>-0.00642210688877</td><td>0.8</td></tr>\n",
       "<tr><td>9995</td><td>-0.275259110203</td><td>0.0370917154408</td><td>-0.00782402312019</td><td>-0.00214760188964</td><td>0.8</td></tr>\n",
       "<tr><td>9996</td><td>-0.316336249014</td><td>0.0205217777031</td><td>-0.00668459507393</td><td>-0.000870969051971</td><td>0.8</td></tr>\n",
       "<tr><td>9997</td><td>-0.131212136323</td><td>-0.14761280902</td><td>0.00150358234996</td><td>0.0127368483691</td><td>0.8</td></tr>\n",
       "<tr><td>9998</td><td>-0.0828757352019</td><td>0.257247972903</td><td>0.00684102544801</td><td>-0.00491831466787</td><td>0.8</td></tr>\n",
       "<tr><td>9999</td><td>-0.0333360889448</td><td>0.0383074534406</td><td>0.00755233283981</td><td>-0.0541572231444</td><td>0.8</td></tr>\n",
       "</table>"
      ],
      "text/plain": [
       "<Table length=10000>\n",
       "  id         ra              dec        ...       gamma2          z   \n",
       "int64     float64          float64      ...      float64       float64\n",
       "----- ---------------- ---------------- ... ------------------ -------\n",
       "    0    0.22229783067  -0.136796055602 ...  -0.00789051857411     0.8\n",
       "    1   0.155922740062   -0.25563956524 ...  -0.00649522920953     0.8\n",
       "    2  -0.128151059278  -0.252624337966 ...    0.0063702677062     0.8\n",
       "    3  -0.025337931365 -0.0643041543786 ...    0.0285325557326     0.8\n",
       "    4  -0.309800086125  -0.182037922764 ...   0.00492228052874     0.8\n",
       "    5  -0.309112863719  -0.172467667019 ...   0.00489989676827     0.8\n",
       "    6  -0.235491369972  -0.289266612636 ...   0.00522694136732     0.8\n",
       "    7   0.212040369099  0.0221039042058 ...   0.00239349025591     0.8\n",
       "    8  -0.196199898522   0.279653999882 ...  -0.00569800729889     0.8\n",
       "    9 -0.0898878709476  0.0558332838796 ...   -0.0243246405835     0.8\n",
       "  ...              ...              ... ...                ...     ...\n",
       " 9990  -0.238926732198  0.0628983845375 ...  -0.00469078027486     0.8\n",
       " 9991  -0.242788264754  0.0126249631894 ...  -0.00100992353077     0.8\n",
       " 9992  -0.126586255078 -0.0122515436844 ...   0.00422838384125     0.8\n",
       " 9993   0.124231381653 -0.0542940350717 ...   -0.0150137669341     0.8\n",
       " 9994   0.016059278626    -0.1174037763 ...  -0.00642210688877     0.8\n",
       " 9995  -0.275259110203  0.0370917154408 ...  -0.00214760188964     0.8\n",
       " 9996  -0.316336249014  0.0205217777031 ... -0.000870969051971     0.8\n",
       " 9997  -0.131212136323   -0.14761280902 ...    0.0127368483691     0.8\n",
       " 9998 -0.0828757352019   0.257247972903 ...  -0.00491831466787     0.8\n",
       " 9999 -0.0333360889448  0.0383074534406 ...   -0.0541572231444     0.8"
      ]
     },
     "execution_count": 14,
     "metadata": {},
     "output_type": "execute_result"
    }
   ],
   "source": [
    "ideal_data.catalog"
   ]
  },
  {
   "cell_type": "markdown",
   "metadata": {
    "collapsed": true
   },
   "source": [
    "#### If redshift error is requested, the table also includes a gaussian pdz and corresponding bins"
   ]
  },
  {
   "cell_type": "code",
   "execution_count": 15,
   "metadata": {
    "collapsed": false
   },
   "outputs": [
    {
     "data": {
      "text/html": [
       "&lt;Table length=10000&gt;\n",
       "<table id=\"table140388691947360\" class=\"table-striped table-bordered table-condensed\">\n",
       "<thead><tr><th>id</th><th>ra</th><th>dec</th><th>gamma1</th><th>gamma2</th><th>z</th><th>z_pdf [21]</th><th>z_bins [21]</th></tr></thead>\n",
       "<thead><tr><th>int64</th><th>float64</th><th>float64</th><th>float64</th><th>float64</th><th>float64</th><th>float64</th><th>float64</th></tr></thead>\n",
       "<tr><td>0</td><td>-0.321694350478</td><td>-0.345450890553</td><td>0.000578962916806</td><td>0.00811908169959</td><td>0.8</td><td>1.21517656996e-07 .. 1.21517656996e-07</td><td>0.5 .. 1.1</td></tr>\n",
       "<tr><td>1</td><td>-0.285857533476</td><td>-0.213917868169</td><td>-0.00108716710291</td><td>0.00369810903918</td><td>0.8</td><td>1.21517656996e-07 .. 1.21517656996e-07</td><td>0.5 .. 1.1</td></tr>\n",
       "<tr><td>2</td><td>0.281652523536</td><td>-0.267147937149</td><td>-0.000417486647861</td><td>-0.00789256635045</td><td>0.8</td><td>1.21517656996e-07 .. 1.21517656996e-07</td><td>0.5 .. 1.1</td></tr>\n",
       "<tr><td>3</td><td>0.230919221089</td><td>0.110567236538</td><td>-0.00831472967508</td><td>0.0103308945229</td><td>0.8</td><td>1.21517656996e-07 .. 1.21517656996e-07</td><td>0.5 .. 1.1</td></tr>\n",
       "<tr><td>4</td><td>-0.251646033493</td><td>-0.182446288799</td><td>-0.000165895170253</td><td>0.000507110104629</td><td>0.8</td><td>1.21517656996e-07 .. 1.21517656996e-07</td><td>0.5 .. 1.1</td></tr>\n",
       "<tr><td>5</td><td>0.00725104806794</td><td>-0.0176168856655</td><td>0.0743591310992</td><td>-0.0736970527257</td><td>0.8</td><td>1.21517656996e-07 .. 1.21517656996e-07</td><td>0.5 .. 1.1</td></tr>\n",
       "<tr><td>6</td><td>-0.201419835861</td><td>-0.291540697832</td><td>0.00137264877792</td><td>0.00362871919495</td><td>0.8</td><td>1.21517656996e-07 .. 1.21517656996e-07</td><td>0.5 .. 1.1</td></tr>\n",
       "<tr><td>7</td><td>0.239132423973</td><td>-0.229901693426</td><td>-0.000274957470349</td><td>-0.00698289718397</td><td>0.8</td><td>1.21517656996e-07 .. 1.21517656996e-07</td><td>0.5 .. 1.1</td></tr>\n",
       "<tr><td>8</td><td>0.191418480776</td><td>-0.194432531923</td><td>0.000116929061262</td><td>-0.00748402092667</td><td>0.8</td><td>1.21517656996e-07 .. 1.21517656996e-07</td><td>0.5 .. 1.1</td></tr>\n",
       "<tr><td>9</td><td>0.115594479276</td><td>-0.315042658692</td><td>0.00324288524066</td><td>-0.00274996062665</td><td>0.8</td><td>1.21517656996e-07 .. 1.21517656996e-07</td><td>0.5 .. 1.1</td></tr>\n",
       "<tr><td>...</td><td>...</td><td>...</td><td>...</td><td>...</td><td>...</td><td>...</td><td>...</td></tr>\n",
       "<tr><td>9990</td><td>-0.296952207258</td><td>0.029291854685</td><td>-0.00748130268729</td><td>-0.00149043825578</td><td>0.8</td><td>1.21517656996e-07 .. 1.21517656996e-07</td><td>0.5 .. 1.1</td></tr>\n",
       "<tr><td>9991</td><td>-0.192701017837</td><td>-0.176264240885</td><td>-0.000904021918528</td><td>0.0101263991582</td><td>0.8</td><td>1.21517656996e-07 .. 1.21517656996e-07</td><td>0.5 .. 1.1</td></tr>\n",
       "<tr><td>9992</td><td>-0.238577938985</td><td>0.058021748815</td><td>-0.000130581409561</td><td>-6.7507087781e-05</td><td>0.8</td><td>1.21517656996e-07 .. 1.21517656996e-07</td><td>0.5 .. 1.1</td></tr>\n",
       "<tr><td>9993</td><td>-0.224782848321</td><td>0.0430679327747</td><td>-0.00404904848492</td><td>-0.00161070748047</td><td>0.8</td><td>1.21517656996e-07 .. 1.21517656996e-07</td><td>0.5 .. 1.1</td></tr>\n",
       "<tr><td>9994</td><td>-0.225700099464</td><td>-0.0166008031802</td><td>-0.00961632045971</td><td>0.00142230314731</td><td>0.8</td><td>1.21517656996e-07 .. 1.21517656996e-07</td><td>0.5 .. 1.1</td></tr>\n",
       "<tr><td>9995</td><td>0.265270696179</td><td>0.31105883441</td><td>-0.000293380333053</td><td>-0.00183471643849</td><td>0.8</td><td>1.21517656996e-07 .. 1.21517656996e-07</td><td>0.5 .. 1.1</td></tr>\n",
       "<tr><td>9996</td><td>-0.243462069664</td><td>0.191705358785</td><td>-0.00317777249384</td><td>-0.0131702891189</td><td>0.8</td><td>1.21517656996e-07 .. 1.21517656996e-07</td><td>0.5 .. 1.1</td></tr>\n",
       "<tr><td>9997</td><td>-0.216295573672</td><td>0.0569786020179</td><td>-0.0110968289826</td><td>-0.00628243023642</td><td>0.8</td><td>1.21517656996e-07 .. 1.21517656996e-07</td><td>0.5 .. 1.1</td></tr>\n",
       "<tr><td>9998</td><td>0.170154129333</td><td>-0.139390686425</td><td>-0.0038319624905</td><td>-0.01908837779</td><td>0.8</td><td>1.21517656996e-07 .. 1.21517656996e-07</td><td>0.5 .. 1.1</td></tr>\n",
       "<tr><td>9999</td><td>0.130498275168</td><td>-0.125843854743</td><td>-0.000542331714934</td><td>-0.0149295316574</td><td>0.8</td><td>1.21517656996e-07 .. 1.21517656996e-07</td><td>0.5 .. 1.1</td></tr>\n",
       "</table>"
      ],
      "text/plain": [
       "<Table length=10000>\n",
       "  id         ra        ...               z_pdf [21]               z_bins [21]\n",
       "int64     float64      ...                float64                   float64  \n",
       "----- ---------------- ... -------------------------------------- -----------\n",
       "    0  -0.321694350478 ... 1.21517656996e-07 .. 1.21517656996e-07  0.5 .. 1.1\n",
       "    1  -0.285857533476 ... 1.21517656996e-07 .. 1.21517656996e-07  0.5 .. 1.1\n",
       "    2   0.281652523536 ... 1.21517656996e-07 .. 1.21517656996e-07  0.5 .. 1.1\n",
       "    3   0.230919221089 ... 1.21517656996e-07 .. 1.21517656996e-07  0.5 .. 1.1\n",
       "    4  -0.251646033493 ... 1.21517656996e-07 .. 1.21517656996e-07  0.5 .. 1.1\n",
       "    5 0.00725104806794 ... 1.21517656996e-07 .. 1.21517656996e-07  0.5 .. 1.1\n",
       "    6  -0.201419835861 ... 1.21517656996e-07 .. 1.21517656996e-07  0.5 .. 1.1\n",
       "    7   0.239132423973 ... 1.21517656996e-07 .. 1.21517656996e-07  0.5 .. 1.1\n",
       "    8   0.191418480776 ... 1.21517656996e-07 .. 1.21517656996e-07  0.5 .. 1.1\n",
       "    9   0.115594479276 ... 1.21517656996e-07 .. 1.21517656996e-07  0.5 .. 1.1\n",
       "  ...              ... ...                                    ...         ...\n",
       " 9990  -0.296952207258 ... 1.21517656996e-07 .. 1.21517656996e-07  0.5 .. 1.1\n",
       " 9991  -0.192701017837 ... 1.21517656996e-07 .. 1.21517656996e-07  0.5 .. 1.1\n",
       " 9992  -0.238577938985 ... 1.21517656996e-07 .. 1.21517656996e-07  0.5 .. 1.1\n",
       " 9993  -0.224782848321 ... 1.21517656996e-07 .. 1.21517656996e-07  0.5 .. 1.1\n",
       " 9994  -0.225700099464 ... 1.21517656996e-07 .. 1.21517656996e-07  0.5 .. 1.1\n",
       " 9995   0.265270696179 ... 1.21517656996e-07 .. 1.21517656996e-07  0.5 .. 1.1\n",
       " 9996  -0.243462069664 ... 1.21517656996e-07 .. 1.21517656996e-07  0.5 .. 1.1\n",
       " 9997  -0.216295573672 ... 1.21517656996e-07 .. 1.21517656996e-07  0.5 .. 1.1\n",
       " 9998   0.170154129333 ... 1.21517656996e-07 .. 1.21517656996e-07  0.5 .. 1.1\n",
       " 9999   0.130498275168 ... 1.21517656996e-07 .. 1.21517656996e-07  0.5 .. 1.1"
      ]
     },
     "execution_count": 15,
     "metadata": {},
     "output_type": "execute_result"
    }
   ],
   "source": [
    "noisy_data.catalog"
   ]
  },
  {
   "cell_type": "markdown",
   "metadata": {},
   "source": [
    "### Compute and plot shear profile"
   ]
  },
  {
   "cell_type": "code",
   "execution_count": 16,
   "metadata": {
    "collapsed": true
   },
   "outputs": [],
   "source": [
    "from clmm import ShearAzimuthalAverager"
   ]
  },
  {
   "cell_type": "code",
   "execution_count": 17,
   "metadata": {
    "collapsed": false
   },
   "outputs": [
    {
     "name": "stderr",
     "output_type": "stream",
     "text": [
      "/home/babyostrich/anaconda3/lib/python3.5/site-packages/astropy/table/row.py:56: FutureWarning: elementwise == comparison failed and returning scalar instead; this will raise an error or perform elementwise comparison in the future.\n",
      "  return self.as_void() == other\n"
     ]
    },
    {
     "name": "stdout",
     "output_type": "stream",
     "text": [
      "read g1, g2 directly\n",
      "read g1, g2 directly\n"
     ]
    },
    {
     "data": {
      "image/png": "[encoded data removed]",
      "text/plain": [
       "<matplotlib.figure.Figure at 0x7faecdb68668>"
      ]
     },
     "metadata": {},
     "output_type": "display_data"
    }
   ],
   "source": [
    "cl_dict = {'z':config['cluster_z'], 'ra':0.0, 'dec': 0.0}\n",
    "saa_ideal = ShearAzimuthalAverager(cl_dict,ideal_data.catalog)\n",
    "saa_noisy = ShearAzimuthalAverager(cl_dict,noisy_data.catalog)\n",
    "saa_ideal.compute_shear()\n",
    "saa_noisy.compute_shear()\n",
    "saa_ideal.make_shear_profile()\n",
    "saa_noisy.make_shear_profile()\n",
    "\n",
    "saa_ideal.plot_profile()\n"
   ]
  },
  {
   "cell_type": "code",
   "execution_count": 18,
   "metadata": {
    "collapsed": false
   },
   "outputs": [
    {
     "data": {
      "image/png": "[encoded data removed]",
      "text/plain": [
       "<matplotlib.figure.Figure at 0x7faecd83bf60>"
      ]
     },
     "metadata": {},
     "output_type": "display_data"
    }
   ],
   "source": [
    "saa_noisy.plot_profile()"
   ]
  },
  {
   "cell_type": "code",
   "execution_count": null,
   "metadata": {
    "collapsed": true
   },
   "outputs": [],
   "source": []
  }
 ],
 "metadata": {
  "anaconda-cloud": {},
  "kernelspec": {
   "display_name": "Python [default]",
   "language": "python",
   "name": "python3"
  },
  "language_info": {
   "codemirror_mode": {
    "name": "ipython",
    "version": 3
   },
   "file_extension": ".py",
   "mimetype": "text/x-python",
   "name": "python",
   "nbconvert_exporter": "python",
   "pygments_lexer": "ipython3",
   "version": "3.5.2"
  }
 },
 "nbformat": 4,
 "nbformat_minor": 2
}
