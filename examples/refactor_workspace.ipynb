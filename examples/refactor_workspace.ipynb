{
 "cells": [
  {
   "cell_type": "code",
   "execution_count": 1,
   "metadata": {},
   "outputs": [],
   "source": [
    "import numpy as np\n",
    "import GCRCatalogs\n",
    "from astropy.table import Table\n",
    "\n",
    "from clmm.structures import GalaxyCluster"
   ]
  },
  {
   "cell_type": "code",
   "execution_count": 2,
   "metadata": {},
   "outputs": [],
   "source": [
    "# fyi this is cluster.py\n",
    "\n",
    "import pickle\n",
    "from astropy.table import Table\n",
    "\n",
    "class GalaxyCluster():\n",
    "    def __init__(self, id=None, \n",
    "                       ra=None, dec=None,\n",
    "                       z=None, richness=None,\n",
    "                       gals=Table()\n",
    "                ):\n",
    "        self.id = id\n",
    "        self.ra = ra\n",
    "        self.dec = dec\n",
    "        self.z = z\n",
    "        self.richness = richness\n",
    "        self.gals = gals\n",
    "\n",
    "    def save(self, filename, **kwargs):\n",
    "        with open(filename, 'wb') as f:\n",
    "            pickle.dump(self, f, protocol=3, **kwargs)\n",
    "\n",
    "    def load(self, filename, **kwargs):\n",
    "        with open(filename, 'rb') as f:\n",
    "            new_cl = pickle.load(f, **kwargs)\n",
    "        self.__dict__.update(new_cl.__dict__)"
   ]
  },
  {
   "cell_type": "code",
   "execution_count": 3,
   "metadata": {},
   "outputs": [],
   "source": [
    "# fyi this is load_from_DC2.py\n",
    "\n",
    "import os\n",
    "import numpy as np\n",
    "import GCRCatalogs\n",
    "from astropy.table import Table\n",
    "\n",
    "from clmm.structures import GalaxyCluster\n",
    "\n",
    "def load_from_dc2(N, catalog, save_dir):\n",
    "    catalog = GCRCatalogs.load_catalog(catalog)\n",
    "    halos = catalog.get_quantities(['galaxy_id', 'halo_mass', 'redshift','ra', 'dec'],\n",
    "                                   filters=['halo_mass > 1e14','is_central==True'])\n",
    "\n",
    "    for _ in range(N):\n",
    "        i = np.random.randint(len(halos))\n",
    "\n",
    "        id_cl = halos['galaxy_id'][i]\n",
    "        ra_cl = halos['ra'][i]\n",
    "        dec_cl = halos['dec'][i]\n",
    "        z_cl = halos['redshift'][i]\n",
    "        m_cl = halos['halo_mass'][i]\n",
    "\n",
    "        # get galaxies around cluster\n",
    "        ra_min, ra_max = ra_cl-0.3, ra_cl+0.3\n",
    "        dec_min, dec_max = dec_cl-0.3, dec_cl+0.3\n",
    "        z_min = z_cl + 0.1\n",
    "        z_max = 1.5\n",
    "\n",
    "        coord_filters = [\n",
    "            'ra >= %s'%ra_min,\n",
    "            'ra < %s'%ra_max,\n",
    "            'dec >= %s'%dec_min,\n",
    "            'dec < %s'%dec_max,\n",
    "        ]\n",
    "        z_filters = ['redshift >= %s'%z_min,\n",
    "                     'redshift < %s'%z_max]\n",
    "\n",
    "        gals = catalog.get_quantities(['galaxy_id', 'ra', 'dec', 'shear_1', 'shear_2',\n",
    "                                       'redshift', 'convergence'], filters=(coord_filters + z_filters))\n",
    "\n",
    "        # store the results into an astropy table\n",
    "        t = Table([gals['galaxy_id'],gals['ra'],gals['dec'],gals['shear_1'],\n",
    "                   gals['shear_2'],gals['redshift'],gals['convergence']],\n",
    "                  names=('id','ra','dec', 'gamma1', 'gamma2', 'z', 'kappa'))\n",
    "\n",
    "\n",
    "        c = GalaxyCluster(id=id_cl, ra=ra_cl, dec=dec_cl,\n",
    "                    z=z_cl, richness=None,\n",
    "                    gals=t)\n",
    "\n",
    "        c.save(os.path.join(save_dir, '%s.p'%id_cl))\n",
    "\n"
   ]
  },
  {
   "cell_type": "code",
   "execution_count": 4,
   "metadata": {},
   "outputs": [
    {
     "name": "stderr",
     "output_type": "stream",
     "text": [
      "/global/u1/m/mho1/desc/CLMM/examples/GCRCatalogs/alphaq.py:105: UserWarning: No md5 sum specified in the config file\n",
      "  warnings.warn('No md5 sum specified in the config file')\n"
     ]
    }
   ],
   "source": [
    "catalog = 'proto-dc2_v2.1.2_test'\n",
    "save_dir = '/global/homes/m/mho1/scratch/clmm_scratch/cl_from_gcr'\n",
    "\n",
    "load_from_dc2(5, catalog, save_dir)"
   ]
  },
  {
   "cell_type": "code",
   "execution_count": null,
   "metadata": {},
   "outputs": [],
   "source": []
  },
  {
   "cell_type": "code",
   "execution_count": 5,
   "metadata": {},
   "outputs": [
    {
     "name": "stdout",
     "output_type": "stream",
     "text": [
      "ra: -0.320841, dec: -0.158532\n"
     ]
    },
    {
     "data": {
      "text/html": [
       "<i>Table length=147104</i>\n",
       "<table id=\"table46913442531088\" class=\"table-striped table-bordered table-condensed\">\n",
       "<thead><tr><th>id</th><th>ra</th><th>dec</th><th>gamma1</th><th>gamma2</th><th>z</th><th>kappa</th></tr></thead>\n",
       "<thead><tr><th>int64</th><th>float32</th><th>float32</th><th>float32</th><th>float32</th><th>float64</th><th>float32</th></tr></thead>\n",
       "<tr><td>206753</td><td>-0.509809</td><td>-0.412629</td><td>0.00284167</td><td>0.0110131</td><td>0.478103539295</td><td>0.00148338</td></tr>\n",
       "<tr><td>206983</td><td>-0.514711</td><td>-0.318065</td><td>1.05667e-05</td><td>-5.55245e-05</td><td>0.478475201685</td><td>0.00171316</td></tr>\n",
       "<tr><td>217473</td><td>-0.586691</td><td>-0.346806</td><td>-0.00842941</td><td>-0.000413947</td><td>0.558600139463</td><td>-0.00416899</td></tr>\n",
       "<tr><td>217477</td><td>-0.586256</td><td>-0.348024</td><td>-0.00824594</td><td>-0.000356569</td><td>0.558726541973</td><td>-0.00439441</td></tr>\n",
       "<tr><td>217479</td><td>-0.42406</td><td>-0.392871</td><td>0.000648918</td><td>0.00673248</td><td>0.557891232526</td><td>0.00414896</td></tr>\n",
       "<tr><td>217480</td><td>-0.507499</td><td>-0.408799</td><td>0.00359056</td><td>0.0117054</td><td>0.55874428609</td><td>0.0018031</td></tr>\n",
       "<tr><td>217481</td><td>-0.449362</td><td>-0.399487</td><td>0.00429097</td><td>-0.00317511</td><td>0.558066987067</td><td>0.0106788</td></tr>\n",
       "<tr><td>217482</td><td>-0.586198</td><td>-0.372236</td><td>-0.00425679</td><td>0.00217683</td><td>0.558867553352</td><td>-0.00675666</td></tr>\n",
       "<tr><td>217484</td><td>-0.510224</td><td>-0.406202</td><td>0.00304988</td><td>0.011796</td><td>0.558772899401</td><td>0.00138766</td></tr>\n",
       "<tr><td>217487</td><td>-0.572909</td><td>-0.364839</td><td>-0.00663504</td><td>0.00260493</td><td>0.558979199679</td><td>-0.0058347</td></tr>\n",
       "<tr><td>...</td><td>...</td><td>...</td><td>...</td><td>...</td><td>...</td><td>...</td></tr>\n",
       "<tr><td>20563478</td><td>-0.0536236</td><td>-0.123535</td><td>-0.00414678</td><td>-0.00129369</td><td>0.251700324891</td><td>0.00367266</td></tr>\n",
       "<tr><td>20563479</td><td>-0.0386944</td><td>-0.149403</td><td>-0.00469335</td><td>-0.00410504</td><td>0.251824534053</td><td>0.00152856</td></tr>\n",
       "<tr><td>20563845</td><td>-0.0353834</td><td>-0.406145</td><td>-0.00116757</td><td>-0.00103195</td><td>0.253172028772</td><td>-0.000274301</td></tr>\n",
       "<tr><td>20563846</td><td>-0.040105</td><td>-0.350797</td><td>-0.00216198</td><td>-0.00131958</td><td>0.253207077947</td><td>-0.00046289</td></tr>\n",
       "<tr><td>20564091</td><td>-0.0469895</td><td>-0.198995</td><td>-0.00464153</td><td>-0.00352817</td><td>0.252786168368</td><td>0.000669837</td></tr>\n",
       "<tr><td>20564581</td><td>-0.108578</td><td>0.118569</td><td>-0.00399903</td><td>0.00179965</td><td>0.248522365817</td><td>0.00459605</td></tr>\n",
       "<tr><td>20564599</td><td>-0.102317</td><td>0.12394</td><td>-0.00375342</td><td>0.00291812</td><td>0.248494385071</td><td>0.00312006</td></tr>\n",
       "<tr><td>20564628</td><td>-0.0788406</td><td>-0.162996</td><td>-0.00529861</td><td>-0.00182006</td><td>0.252765044593</td><td>0.00123209</td></tr>\n",
       "<tr><td>20564650</td><td>-0.0519889</td><td>-0.38642</td><td>-0.00165362</td><td>-0.00129136</td><td>0.253711814124</td><td>0.00035578</td></tr>\n",
       "<tr><td>20593597</td><td>-0.0556223</td><td>-0.401196</td><td>-0.0011077</td><td>-0.000846017</td><td>0.260605870389</td><td>-2.28882e-05</td></tr>\n",
       "</table>"
      ],
      "text/plain": [
       "<Table length=147104>\n",
       "   id        ra        dec    ...    gamma2          z           kappa    \n",
       " int64    float32    float32  ...   float32       float64       float32   \n",
       "-------- ---------- --------- ... ------------ -------------- ------------\n",
       "  206753  -0.509809 -0.412629 ...    0.0110131 0.478103539295   0.00148338\n",
       "  206983  -0.514711 -0.318065 ... -5.55245e-05 0.478475201685   0.00171316\n",
       "  217473  -0.586691 -0.346806 ... -0.000413947 0.558600139463  -0.00416899\n",
       "  217477  -0.586256 -0.348024 ... -0.000356569 0.558726541973  -0.00439441\n",
       "  217479   -0.42406 -0.392871 ...   0.00673248 0.557891232526   0.00414896\n",
       "  217480  -0.507499 -0.408799 ...    0.0117054  0.55874428609    0.0018031\n",
       "  217481  -0.449362 -0.399487 ...  -0.00317511 0.558066987067    0.0106788\n",
       "  217482  -0.586198 -0.372236 ...   0.00217683 0.558867553352  -0.00675666\n",
       "  217484  -0.510224 -0.406202 ...     0.011796 0.558772899401   0.00138766\n",
       "  217487  -0.572909 -0.364839 ...   0.00260493 0.558979199679   -0.0058347\n",
       "     ...        ...       ... ...          ...            ...          ...\n",
       "20563478 -0.0536236 -0.123535 ...  -0.00129369 0.251700324891   0.00367266\n",
       "20563479 -0.0386944 -0.149403 ...  -0.00410504 0.251824534053   0.00152856\n",
       "20563845 -0.0353834 -0.406145 ...  -0.00103195 0.253172028772 -0.000274301\n",
       "20563846  -0.040105 -0.350797 ...  -0.00131958 0.253207077947  -0.00046289\n",
       "20564091 -0.0469895 -0.198995 ...  -0.00352817 0.252786168368  0.000669837\n",
       "20564581  -0.108578  0.118569 ...   0.00179965 0.248522365817   0.00459605\n",
       "20564599  -0.102317   0.12394 ...   0.00291812 0.248494385071   0.00312006\n",
       "20564628 -0.0788406 -0.162996 ...  -0.00182006 0.252765044593   0.00123209\n",
       "20564650 -0.0519889  -0.38642 ...  -0.00129136 0.253711814124   0.00035578\n",
       "20593597 -0.0556223 -0.401196 ... -0.000846017 0.260605870389 -2.28882e-05"
      ]
     },
     "execution_count": 5,
     "metadata": {},
     "output_type": "execute_result"
    }
   ],
   "source": [
    "load_file = '/global/homes/m/mho1/scratch/clmm_scratch/cl_from_gcr/443618.p'\n",
    "\n",
    "cl = GalaxyCluster()\n",
    "cl.load(load_file)\n",
    "\n",
    "print('ra: %s, dec: %s'%(cl.ra, cl.dec))\n",
    "cl.gals"
   ]
  },
  {
   "cell_type": "code",
   "execution_count": null,
   "metadata": {},
   "outputs": [],
   "source": []
  },
  {
   "cell_type": "code",
   "execution_count": null,
   "metadata": {},
   "outputs": [],
   "source": []
  },
  {
   "cell_type": "code",
   "execution_count": null,
   "metadata": {},
   "outputs": [],
   "source": []
  },
  {
   "cell_type": "code",
   "execution_count": null,
   "metadata": {},
   "outputs": [],
   "source": []
  },
  {
   "cell_type": "code",
   "execution_count": null,
   "metadata": {},
   "outputs": [],
   "source": []
  }
 ],
 "metadata": {
  "kernelspec": {
   "display_name": "Python 3",
   "language": "python",
   "name": "python3"
  },
  "language_info": {
   "codemirror_mode": {
    "name": "ipython",
    "version": 3
   },
   "file_extension": ".py",
   "mimetype": "text/x-python",
   "name": "python",
   "nbconvert_exporter": "python",
   "pygments_lexer": "ipython3",
   "version": "3.6.8"
  }
 },
 "nbformat": 4,
 "nbformat_minor": 2
}
