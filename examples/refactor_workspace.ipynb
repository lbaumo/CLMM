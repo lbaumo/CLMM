{
 "cells": [
  {
   "cell_type": "code",
   "execution_count": 1,
   "metadata": {},
   "outputs": [],
   "source": [
    "import numpy as np\n",
    "import GCRCatalogs\n",
    "from astropy.table import Table\n",
    "\n",
    "from clmm.structures import Cluster"
   ]
  },
  {
   "cell_type": "code",
   "execution_count": 2,
   "metadata": {},
   "outputs": [],
   "source": [
    "# fyi this is cluster.py\n",
    "\n",
    "import pickle\n",
    "from astropy.table import Table\n",
    "\n",
    "class Cluster():\n",
    "    def __init__(self, id=None, \n",
    "                       ra=None, dec=None,\n",
    "                       z=None, richness=None,\n",
    "                       gals=Table()\n",
    "                ):\n",
    "        self.id = id\n",
    "        self.ra = ra\n",
    "        self.dec = dec\n",
    "        self.z = z\n",
    "        self.richness = richness\n",
    "        self.gals = gals\n",
    "\n",
    "    def save(self, filename, **kwargs):\n",
    "        with open(filename, 'wb') as f:\n",
    "            pickle.dump(self, f, protocol=3, **kwargs)\n",
    "\n",
    "    def load(self, filename, **kwargs):\n",
    "        with open(filename, 'rb') as f:\n",
    "            new_cl = pickle.load(f, **kwargs)\n",
    "        self.__dict__.update(new_cl.__dict__)"
   ]
  },
  {
   "cell_type": "code",
   "execution_count": 3,
   "metadata": {},
   "outputs": [],
   "source": [
    "# fyi this is load_from_DC2.py\n",
    "\n",
    "import os\n",
    "import numpy as np\n",
    "import GCRCatalogs\n",
    "from astropy.table import Table\n",
    "\n",
    "from clmm.structures import Cluster\n",
    "\n",
    "def load_from_dc2(N, catalog, save_dir):\n",
    "    catalog = GCRCatalogs.load_catalog(catalog)\n",
    "    halos = catalog.get_quantities(['galaxy_id', 'halo_mass', 'redshift','ra', 'dec'],\n",
    "                                   filters=['halo_mass > 1e14','is_central==True'])\n",
    "\n",
    "    for _ in range(N):\n",
    "        i = np.random.randint(len(halos))\n",
    "\n",
    "        id_cl = halos['galaxy_id'][i]\n",
    "        ra_cl = halos['ra'][i]\n",
    "        dec_cl = halos['dec'][i]\n",
    "        z_cl = halos['redshift'][i]\n",
    "        m_cl = halos['halo_mass'][i]\n",
    "\n",
    "        # get galaxies around cluster\n",
    "        ra_min, ra_max = ra_cl-0.3, ra_cl+0.3\n",
    "        dec_min, dec_max = dec_cl-0.3, dec_cl+0.3\n",
    "        z_min = z_cl + 0.1\n",
    "        z_max = 1.5\n",
    "\n",
    "        coord_filters = [\n",
    "            'ra >= %s'%ra_min,\n",
    "            'ra < %s'%ra_max,\n",
    "            'dec >= %s'%dec_min,\n",
    "            'dec < %s'%dec_max,\n",
    "        ]\n",
    "        z_filters = ['redshift >= %s'%z_min,\n",
    "                     'redshift < %s'%z_max]\n",
    "\n",
    "        gals = catalog.get_quantities(['galaxy_id', 'ra', 'dec', 'shear_1', 'shear_2',\n",
    "                                       'redshift', 'convergence'], filters=(coord_filters + z_filters))\n",
    "\n",
    "        # store the results into an astropy table\n",
    "        t = Table([gals['galaxy_id'],gals['ra'],gals['dec'],gals['shear_1'],\n",
    "                   gals['shear_2'],gals['redshift'],gals['convergence']],\n",
    "                  names=('id','ra','dec', 'gamma1', 'gamma2', 'z', 'kappa'))\n",
    "\n",
    "\n",
    "        c = Cluster(id=id_cl, ra=ra_cl, dec=dec_cl,\n",
    "                    z=z_cl, richness=None,\n",
    "                    gals=t)\n",
    "\n",
    "        c.save(os.path.join(save_dir, '%s.p'%id_cl))\n",
    "\n"
   ]
  },
  {
   "cell_type": "code",
   "execution_count": 4,
   "metadata": {},
   "outputs": [
    {
     "name": "stderr",
     "output_type": "stream",
     "text": [
      "/global/common/software/lsst/common/miniconda/py3-4.5.12/envs/stack/lib/python3.7/site-packages/GCRCatalogs/alphaq.py:105: UserWarning: No md5 sum specified in the config file\n",
      "  warnings.warn('No md5 sum specified in the config file')\n"
     ]
    }
   ],
   "source": [
    "catalog = 'proto-dc2_v2.1.2_test'\n",
    "save_dir = '/global/homes/m/mho1/scratch/clmm_scratch/cl_from_gcr'\n",
    "\n",
    "load_from_dc2(5, catalog, save_dir)"
   ]
  },
  {
   "cell_type": "code",
   "execution_count": null,
   "metadata": {},
   "outputs": [],
   "source": []
  },
  {
   "cell_type": "code",
   "execution_count": 6,
   "metadata": {},
   "outputs": [
    {
     "name": "stdout",
     "output_type": "stream",
     "text": [
      "ra: -0.32084063, dec: -0.15853196\n"
     ]
    },
    {
     "data": {
      "text/html": [
       "<i>Table length=147104</i>\n",
       "<table id=\"table46913206261464\" class=\"table-striped table-bordered table-condensed\">\n",
       "<thead><tr><th>id</th><th>ra</th><th>dec</th><th>gamma1</th><th>gamma2</th><th>z</th><th>kappa</th></tr></thead>\n",
       "<thead><tr><th>int64</th><th>float32</th><th>float32</th><th>float32</th><th>float32</th><th>float64</th><th>float32</th></tr></thead>\n",
       "<tr><td>206753</td><td>-0.5098095</td><td>-0.4126295</td><td>0.0028416703</td><td>0.011013131</td><td>0.47810353929509986</td><td>0.0014833808</td></tr>\n",
       "<tr><td>206983</td><td>-0.5147111</td><td>-0.31806475</td><td>1.0566728e-05</td><td>-5.552447e-05</td><td>0.4784752016848781</td><td>0.0017131567</td></tr>\n",
       "<tr><td>217473</td><td>-0.5866914</td><td>-0.34680566</td><td>-0.008429415</td><td>-0.00041394678</td><td>0.5586001394625808</td><td>-0.0041689873</td></tr>\n",
       "<tr><td>217477</td><td>-0.5862563</td><td>-0.34802443</td><td>-0.008245945</td><td>-0.00035656933</td><td>0.5587265419727918</td><td>-0.004394412</td></tr>\n",
       "<tr><td>217479</td><td>-0.42405963</td><td>-0.39287058</td><td>0.000648918</td><td>0.006732483</td><td>0.5578912325261296</td><td>0.00414896</td></tr>\n",
       "<tr><td>217480</td><td>-0.50749886</td><td>-0.40879902</td><td>0.003590559</td><td>0.011705445</td><td>0.558744286089585</td><td>0.0018031001</td></tr>\n",
       "<tr><td>217481</td><td>-0.44936177</td><td>-0.39948744</td><td>0.0042909714</td><td>-0.0031751087</td><td>0.5580669870667365</td><td>0.010678828</td></tr>\n",
       "<tr><td>217482</td><td>-0.5861984</td><td>-0.37223566</td><td>-0.004256789</td><td>0.0021768264</td><td>0.5588675533521301</td><td>-0.0067566633</td></tr>\n",
       "<tr><td>217484</td><td>-0.51022446</td><td>-0.40620226</td><td>0.0030498814</td><td>0.011795953</td><td>0.5587728994011374</td><td>0.0013876557</td></tr>\n",
       "<tr><td>217487</td><td>-0.57290936</td><td>-0.3648394</td><td>-0.00663504</td><td>0.0026049328</td><td>0.5589791996785078</td><td>-0.0058346987</td></tr>\n",
       "<tr><td>...</td><td>...</td><td>...</td><td>...</td><td>...</td><td>...</td><td>...</td></tr>\n",
       "<tr><td>20563478</td><td>-0.05362363</td><td>-0.12353475</td><td>-0.004146783</td><td>-0.001293689</td><td>0.25170032489144334</td><td>0.0036726594</td></tr>\n",
       "<tr><td>20563479</td><td>-0.038694352</td><td>-0.14940287</td><td>-0.0046933475</td><td>-0.00410504</td><td>0.25182453405298477</td><td>0.0015285611</td></tr>\n",
       "<tr><td>20563845</td><td>-0.035383355</td><td>-0.40614507</td><td>-0.0011675701</td><td>-0.0010319497</td><td>0.25317202877190526</td><td>-0.00027430058</td></tr>\n",
       "<tr><td>20563846</td><td>-0.040104967</td><td>-0.35079712</td><td>-0.0021619755</td><td>-0.0013195812</td><td>0.25320707794712627</td><td>-0.00046288967</td></tr>\n",
       "<tr><td>20564091</td><td>-0.046989463</td><td>-0.19899505</td><td>-0.0046415324</td><td>-0.0035281703</td><td>0.2527861683684942</td><td>0.000669837</td></tr>\n",
       "<tr><td>20564581</td><td>-0.10857768</td><td>0.11856906</td><td>-0.003999034</td><td>0.0017996533</td><td>0.24852236581651854</td><td>0.0045960546</td></tr>\n",
       "<tr><td>20564599</td><td>-0.10231703</td><td>0.123940445</td><td>-0.003753415</td><td>0.0029181242</td><td>0.24849438507121802</td><td>0.0031200647</td></tr>\n",
       "<tr><td>20564628</td><td>-0.07884062</td><td>-0.16299596</td><td>-0.0052986103</td><td>-0.0018200632</td><td>0.25276504459328253</td><td>0.0012320876</td></tr>\n",
       "<tr><td>20564650</td><td>-0.051988948</td><td>-0.38642043</td><td>-0.0016536235</td><td>-0.001291363</td><td>0.2537118141235988</td><td>0.00035578012</td></tr>\n",
       "<tr><td>20593597</td><td>-0.055622336</td><td>-0.40119612</td><td>-0.0011077034</td><td>-0.00084601704</td><td>0.2606058703894214</td><td>-2.2888184e-05</td></tr>\n",
       "</table>"
      ],
      "text/plain": [
       "<Table length=147104>\n",
       "   id         ra          dec     ...          z              kappa     \n",
       " int64     float32      float32   ...       float64          float32    \n",
       "-------- ------------ ----------- ... ------------------- --------------\n",
       "  206753   -0.5098095  -0.4126295 ... 0.47810353929509986   0.0014833808\n",
       "  206983   -0.5147111 -0.31806475 ...  0.4784752016848781   0.0017131567\n",
       "  217473   -0.5866914 -0.34680566 ...  0.5586001394625808  -0.0041689873\n",
       "  217477   -0.5862563 -0.34802443 ...  0.5587265419727918   -0.004394412\n",
       "  217479  -0.42405963 -0.39287058 ...  0.5578912325261296     0.00414896\n",
       "  217480  -0.50749886 -0.40879902 ...   0.558744286089585   0.0018031001\n",
       "  217481  -0.44936177 -0.39948744 ...  0.5580669870667365    0.010678828\n",
       "  217482   -0.5861984 -0.37223566 ...  0.5588675533521301  -0.0067566633\n",
       "  217484  -0.51022446 -0.40620226 ...  0.5587728994011374   0.0013876557\n",
       "  217487  -0.57290936  -0.3648394 ...  0.5589791996785078  -0.0058346987\n",
       "     ...          ...         ... ...                 ...            ...\n",
       "20563478  -0.05362363 -0.12353475 ... 0.25170032489144334   0.0036726594\n",
       "20563479 -0.038694352 -0.14940287 ... 0.25182453405298477   0.0015285611\n",
       "20563845 -0.035383355 -0.40614507 ... 0.25317202877190526 -0.00027430058\n",
       "20563846 -0.040104967 -0.35079712 ... 0.25320707794712627 -0.00046288967\n",
       "20564091 -0.046989463 -0.19899505 ...  0.2527861683684942    0.000669837\n",
       "20564581  -0.10857768  0.11856906 ... 0.24852236581651854   0.0045960546\n",
       "20564599  -0.10231703 0.123940445 ... 0.24849438507121802   0.0031200647\n",
       "20564628  -0.07884062 -0.16299596 ... 0.25276504459328253   0.0012320876\n",
       "20564650 -0.051988948 -0.38642043 ...  0.2537118141235988  0.00035578012\n",
       "20593597 -0.055622336 -0.40119612 ...  0.2606058703894214 -2.2888184e-05"
      ]
     },
     "execution_count": 6,
     "metadata": {},
     "output_type": "execute_result"
    }
   ],
   "source": [
    "load_file = '/global/homes/m/mho1/scratch/clmm_scratch/cl_from_gcr/443618.p'\n",
    "\n",
    "cl = Cluster()\n",
    "cl.load(load_file)\n",
    "\n",
    "print('ra: %s, dec: %s'%(cl.ra, cl.dec))\n",
    "cl.gals"
   ]
  },
  {
   "cell_type": "code",
   "execution_count": null,
   "metadata": {},
   "outputs": [],
   "source": []
  },
  {
   "cell_type": "code",
   "execution_count": null,
   "metadata": {},
   "outputs": [],
   "source": []
  },
  {
   "cell_type": "code",
   "execution_count": null,
   "metadata": {},
   "outputs": [],
   "source": []
  },
  {
   "cell_type": "code",
   "execution_count": null,
   "metadata": {},
   "outputs": [],
   "source": []
  },
  {
   "cell_type": "code",
   "execution_count": null,
   "metadata": {},
   "outputs": [],
   "source": []
  }
 ],
 "metadata": {
  "kernelspec": {
   "display_name": "desc-python",
   "language": "python",
   "name": "desc-python"
  },
  "language_info": {
   "codemirror_mode": {
    "name": "ipython",
    "version": 3
   },
   "file_extension": ".py",
   "mimetype": "text/x-python",
   "name": "python",
   "nbconvert_exporter": "python",
   "pygments_lexer": "ipython3",
   "version": "3.7.2"
  }
 },
 "nbformat": 4,
 "nbformat_minor": 2
}
