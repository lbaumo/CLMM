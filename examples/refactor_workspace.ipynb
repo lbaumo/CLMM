{
 "cells": [
  {
   "cell_type": "code",
   "execution_count": 3,
   "metadata": {},
   "outputs": [],
   "source": [
    "import numpy as np\n",
    "import GCRCatalogs\n",
    "from astropy.table import Table\n",
    "\n",
    "from clmm.structures import GalaxyCluster\n",
    "from clmm.desc import load_from_dc2"
   ]
  },
  {
   "cell_type": "code",
   "execution_count": 4,
   "metadata": {},
   "outputs": [
    {
     "name": "stdout",
     "output_type": "stream",
     "text": [
      "Loading cluster 9687943253\n",
      "Loading cluster 9687686568\n",
      "Loading cluster 9687683898\n",
      "Loading cluster 9687560967\n",
      "Loading cluster 9687688186\n"
     ]
    }
   ],
   "source": [
    "catalog = 'cosmoDC2_v1.1.4_small'\n",
    "save_dir = '/global/homes/m/mho1/scratch/clmm_scratch/cl_from_gcr'\n",
    "# save_dir = './'\n",
    "\n",
    "load_from_dc2(5, catalog, save_dir, verbose=True)"
   ]
  },
  {
   "cell_type": "code",
   "execution_count": null,
   "metadata": {},
   "outputs": [],
   "source": []
  },
  {
   "cell_type": "code",
   "execution_count": null,
   "metadata": {},
   "outputs": [],
   "source": [
    "# code to generate mock data TBD! does not work with new models./\n",
    "\n",
    "# https://github.com/LSSTDESC/CLMM/blob/issue/110/re-refactor-clmm-api/examples/generate_mock_data.ipynb\n",
    "\n",
    "import support.mock_data as mock\n",
    "from astropy.table import Table\n",
    "#import clmm\n",
    "import clmm.structures as structures\n",
    "\n",
    "\n",
    "config={}\n",
    "config['cluster_m'] = 1.e15\n",
    "config['cluster_z'] = 0.3\n",
    "config['src_z'] = 0.8\n",
    "config['concentration'] = 4\n",
    "config['cosmo'] = 'WMAP7-ML'\n",
    "config['ngals'] = 10000\n",
    "config['mdef'] = '200c'\n",
    "\n",
    "ideal_data = mock.MockData(config=config)\n",
    "noisy_data = mock.MockData(config=config)\n",
    "# galaxies following redshift distribution, redshift error, shape noise\n",
    "#noisy_data_z = mock.MockData(config=config)\n",
    "\n",
    "ideal_data.generate()\n",
    "noisy_data.generate(is_shapenoise=True, shapenoise=0.005)\n",
    "#noisy_data_z.generate(is_shapenoise=True, is_zdistribution=True, is_zerr=True)\n",
    "\n",
    "print(ideal_data.catalog[0])\n",
    "print(noisy_data.catalog[0])\n",
    "\n",
    "def save_cluster(cluster_id, mock_data):\n",
    "    cluster = structures.GalaxyCluster()\n",
    "    cluster.id = cluster_id\n",
    "    cluster.ra = 0.\n",
    "    cluster.dec = 0.\n",
    "    cluster.z = 0.\n",
    "    cluster.gals = mock_data.catalog\n",
    "    cluster_filename = \"%d.fits\"%cluster_id\n",
    "    cluster.save(cluster_filename)\n",
    "\n",
    "save_cluster(123, ideal_data)\n",
    "save_cluster(456, noisy_data)\n",
    "\n",
    "# Test\n",
    "cluster_test = structures.GalaxyCluster()\n",
    "cluster_test.load(\"123.fits\")\n",
    "print(cluster_test)\n",
    "print(cluster_test.gals)\n"
   ]
  },
  {
   "cell_type": "code",
   "execution_count": null,
   "metadata": {},
   "outputs": [],
   "source": []
  },
  {
   "cell_type": "code",
   "execution_count": null,
   "metadata": {},
   "outputs": [],
   "source": []
  },
  {
   "cell_type": "code",
   "execution_count": null,
   "metadata": {},
   "outputs": [],
   "source": []
  },
  {
   "cell_type": "code",
   "execution_count": null,
   "metadata": {},
   "outputs": [],
   "source": []
  },
  {
   "cell_type": "code",
   "execution_count": null,
   "metadata": {},
   "outputs": [],
   "source": []
  }
 ],
 "metadata": {
  "kernelspec": {
   "display_name": "Python 3",
   "language": "python",
   "name": "python3"
  },
  "language_info": {
   "codemirror_mode": {
    "name": "ipython",
    "version": 3
   },
   "file_extension": ".py",
   "mimetype": "text/x-python",
   "name": "python",
   "nbconvert_exporter": "python",
   "pygments_lexer": "ipython3",
   "version": "3.6.8"
  }
 },
 "nbformat": 4,
 "nbformat_minor": 2
}
